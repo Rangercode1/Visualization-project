{
 "cells": [
  {
   "cell_type": "code",
   "execution_count": 5,
   "id": "dcdf4796",
   "metadata": {},
   "outputs": [],
   "source": [
    "import pandas as pd\n",
    "import numpy as np\n",
    "import matplotlib.pyplot as plt\n",
    "import seaborn as sns"
   ]
  },
  {
   "cell_type": "code",
   "execution_count": 6,
   "id": "99ab779b",
   "metadata": {},
   "outputs": [
    {
     "name": "stderr",
     "output_type": "stream",
     "text": [
      "/var/folders/62/d57bp4nd46q8f2jqy6yhv51m0000gn/T/ipykernel_31353/3713974569.py:1: DtypeWarning: Columns (6) have mixed types. Specify dtype option on import or set low_memory=False.\n",
      "  df=pd.read_csv('EcommerceWebsiteLogs.csv')\n"
     ]
    }
   ],
   "source": [
    "df=pd.read_csv('EcommerceWebsiteLogs.csv')"
   ]
  },
  {
   "cell_type": "code",
   "execution_count": 7,
   "id": "1ca7c1ff",
   "metadata": {},
   "outputs": [
    {
     "data": {
      "text/html": [
       "<div>\n",
       "<style scoped>\n",
       "    .dataframe tbody tr th:only-of-type {\n",
       "        vertical-align: middle;\n",
       "    }\n",
       "\n",
       "    .dataframe tbody tr th {\n",
       "        vertical-align: top;\n",
       "    }\n",
       "\n",
       "    .dataframe thead th {\n",
       "        text-align: right;\n",
       "    }\n",
       "</style>\n",
       "<table border=\"1\" class=\"dataframe\">\n",
       "  <thead>\n",
       "    <tr style=\"text-align: right;\">\n",
       "      <th></th>\n",
       "      <th>accessed_date</th>\n",
       "      <th>duration_(secs)</th>\n",
       "      <th>network_protocol</th>\n",
       "      <th>ip</th>\n",
       "      <th>bytes</th>\n",
       "      <th>accessed_Ffom</th>\n",
       "      <th>age</th>\n",
       "      <th>gender</th>\n",
       "      <th>country</th>\n",
       "      <th>membership</th>\n",
       "      <th>language</th>\n",
       "      <th>sales</th>\n",
       "      <th>returned</th>\n",
       "      <th>returned_amount</th>\n",
       "      <th>pay_method</th>\n",
       "    </tr>\n",
       "  </thead>\n",
       "  <tbody>\n",
       "    <tr>\n",
       "      <th>0</th>\n",
       "      <td>2017-03-14 17:43:57.172</td>\n",
       "      <td>2533</td>\n",
       "      <td>TCP</td>\n",
       "      <td>1.10.195.126</td>\n",
       "      <td>20100</td>\n",
       "      <td>Chrome</td>\n",
       "      <td>28</td>\n",
       "      <td>Female</td>\n",
       "      <td>CA</td>\n",
       "      <td>Normal</td>\n",
       "      <td>English</td>\n",
       "      <td>261.9600</td>\n",
       "      <td>No</td>\n",
       "      <td>0.00</td>\n",
       "      <td>Credit Card</td>\n",
       "    </tr>\n",
       "    <tr>\n",
       "      <th>1</th>\n",
       "      <td>2017-03-14 17:43:57.172</td>\n",
       "      <td>4034</td>\n",
       "      <td>TCP</td>\n",
       "      <td>1.1.217.211</td>\n",
       "      <td>20500</td>\n",
       "      <td>Mozilla Firefox</td>\n",
       "      <td>21</td>\n",
       "      <td>Male</td>\n",
       "      <td>AR</td>\n",
       "      <td>Normal</td>\n",
       "      <td>English</td>\n",
       "      <td>731.9400</td>\n",
       "      <td>No</td>\n",
       "      <td>0.00</td>\n",
       "      <td>Debit Card</td>\n",
       "    </tr>\n",
       "    <tr>\n",
       "      <th>2</th>\n",
       "      <td>2017-03-14 17:43:26.135</td>\n",
       "      <td>1525</td>\n",
       "      <td>TCP</td>\n",
       "      <td>1.115.198.107</td>\n",
       "      <td>90100</td>\n",
       "      <td>Mozilla Firefox</td>\n",
       "      <td>20</td>\n",
       "      <td>Male</td>\n",
       "      <td>PL</td>\n",
       "      <td>Normal</td>\n",
       "      <td>English</td>\n",
       "      <td>14.6200</td>\n",
       "      <td>No</td>\n",
       "      <td>0.00</td>\n",
       "      <td>Cash</td>\n",
       "    </tr>\n",
       "    <tr>\n",
       "      <th>3</th>\n",
       "      <td>2017-03-14 17:43:26.135</td>\n",
       "      <td>4572</td>\n",
       "      <td>TCP</td>\n",
       "      <td>1.121.152.143</td>\n",
       "      <td>100300</td>\n",
       "      <td>Mozilla Firefox</td>\n",
       "      <td>66</td>\n",
       "      <td>Female</td>\n",
       "      <td>IN</td>\n",
       "      <td>Normal</td>\n",
       "      <td>Spanish</td>\n",
       "      <td>957.5775</td>\n",
       "      <td>No</td>\n",
       "      <td>0.00</td>\n",
       "      <td>Credit Card</td>\n",
       "    </tr>\n",
       "    <tr>\n",
       "      <th>4</th>\n",
       "      <td>2017-03-14 18:17:09.005</td>\n",
       "      <td>3652</td>\n",
       "      <td>TCP</td>\n",
       "      <td>1.123.135.213</td>\n",
       "      <td>270200</td>\n",
       "      <td>Mozilla Firefox</td>\n",
       "      <td>53</td>\n",
       "      <td>Female</td>\n",
       "      <td>KR</td>\n",
       "      <td>Normal</td>\n",
       "      <td>Spanish</td>\n",
       "      <td>22.3680</td>\n",
       "      <td>No</td>\n",
       "      <td>0.00</td>\n",
       "      <td>Cash</td>\n",
       "    </tr>\n",
       "    <tr>\n",
       "      <th>...</th>\n",
       "      <td>...</td>\n",
       "      <td>...</td>\n",
       "      <td>...</td>\n",
       "      <td>...</td>\n",
       "      <td>...</td>\n",
       "      <td>...</td>\n",
       "      <td>...</td>\n",
       "      <td>...</td>\n",
       "      <td>...</td>\n",
       "      <td>...</td>\n",
       "      <td>...</td>\n",
       "      <td>...</td>\n",
       "      <td>...</td>\n",
       "      <td>...</td>\n",
       "      <td>...</td>\n",
       "    </tr>\n",
       "    <tr>\n",
       "      <th>172833</th>\n",
       "      <td>2017-03-16 11:42:01.298</td>\n",
       "      <td>4372</td>\n",
       "      <td>TCP</td>\n",
       "      <td>94.197.121.229</td>\n",
       "      <td>100600</td>\n",
       "      <td>Android App</td>\n",
       "      <td>NaN</td>\n",
       "      <td>Male</td>\n",
       "      <td>US</td>\n",
       "      <td>Normal</td>\n",
       "      <td>English</td>\n",
       "      <td>0.0000</td>\n",
       "      <td>Yes</td>\n",
       "      <td>143.36</td>\n",
       "      <td>Debit Card</td>\n",
       "    </tr>\n",
       "    <tr>\n",
       "      <th>172834</th>\n",
       "      <td>2017-03-16 12:10:17.340</td>\n",
       "      <td>2167</td>\n",
       "      <td>TCP</td>\n",
       "      <td>129.110.241.72</td>\n",
       "      <td>30400</td>\n",
       "      <td>Android App</td>\n",
       "      <td>NaN</td>\n",
       "      <td>Female</td>\n",
       "      <td>IT</td>\n",
       "      <td>Normal</td>\n",
       "      <td>English</td>\n",
       "      <td>15.1500</td>\n",
       "      <td>No</td>\n",
       "      <td>0.00</td>\n",
       "      <td>Cash</td>\n",
       "    </tr>\n",
       "    <tr>\n",
       "      <th>172835</th>\n",
       "      <td>2017-03-16 12:10:17.340</td>\n",
       "      <td>2725</td>\n",
       "      <td>TCP</td>\n",
       "      <td>185.119.252.121</td>\n",
       "      <td>100300</td>\n",
       "      <td>Android App</td>\n",
       "      <td>NaN</td>\n",
       "      <td>Female</td>\n",
       "      <td>IT</td>\n",
       "      <td>Normal</td>\n",
       "      <td>English</td>\n",
       "      <td>600.1600</td>\n",
       "      <td>No</td>\n",
       "      <td>0.00</td>\n",
       "      <td>Credit Card</td>\n",
       "    </tr>\n",
       "    <tr>\n",
       "      <th>172836</th>\n",
       "      <td>2017-03-16 15:52:58.342</td>\n",
       "      <td>3728</td>\n",
       "      <td>TCP</td>\n",
       "      <td>185.145.107.23</td>\n",
       "      <td>50200</td>\n",
       "      <td>Android App</td>\n",
       "      <td>NaN</td>\n",
       "      <td>Male</td>\n",
       "      <td>US</td>\n",
       "      <td>Normal</td>\n",
       "      <td>Russian</td>\n",
       "      <td>75.7500</td>\n",
       "      <td>No</td>\n",
       "      <td>0.00</td>\n",
       "      <td>Cash</td>\n",
       "    </tr>\n",
       "    <tr>\n",
       "      <th>172837</th>\n",
       "      <td>2017-03-16 15:52:58.342</td>\n",
       "      <td>3420</td>\n",
       "      <td>TCP</td>\n",
       "      <td>202.69.12.251</td>\n",
       "      <td>170800</td>\n",
       "      <td>Android App</td>\n",
       "      <td>NaN</td>\n",
       "      <td>Female</td>\n",
       "      <td>CA</td>\n",
       "      <td>Normal</td>\n",
       "      <td>English</td>\n",
       "      <td>23.4600</td>\n",
       "      <td>No</td>\n",
       "      <td>0.00</td>\n",
       "      <td>Credit Card</td>\n",
       "    </tr>\n",
       "  </tbody>\n",
       "</table>\n",
       "<p>172838 rows × 15 columns</p>\n",
       "</div>"
      ],
      "text/plain": [
       "                  accessed_date  duration_(secs) network_protocol  \\\n",
       "0       2017-03-14 17:43:57.172             2533            TCP     \n",
       "1       2017-03-14 17:43:57.172             4034            TCP     \n",
       "2       2017-03-14 17:43:26.135             1525            TCP     \n",
       "3       2017-03-14 17:43:26.135             4572            TCP     \n",
       "4       2017-03-14 18:17:09.005             3652            TCP     \n",
       "...                         ...              ...              ...   \n",
       "172833  2017-03-16 11:42:01.298             4372            TCP     \n",
       "172834  2017-03-16 12:10:17.340             2167            TCP     \n",
       "172835  2017-03-16 12:10:17.340             2725            TCP     \n",
       "172836  2017-03-16 15:52:58.342             3728            TCP     \n",
       "172837  2017-03-16 15:52:58.342             3420            TCP     \n",
       "\n",
       "                     ip   bytes    accessed_Ffom  age  gender country  \\\n",
       "0          1.10.195.126   20100           Chrome   28  Female      CA   \n",
       "1           1.1.217.211   20500  Mozilla Firefox   21    Male      AR   \n",
       "2         1.115.198.107   90100  Mozilla Firefox   20    Male      PL   \n",
       "3         1.121.152.143  100300  Mozilla Firefox   66  Female      IN   \n",
       "4         1.123.135.213  270200  Mozilla Firefox   53  Female      KR   \n",
       "...                 ...     ...              ...  ...     ...     ...   \n",
       "172833   94.197.121.229  100600      Android App  NaN    Male      US   \n",
       "172834   129.110.241.72   30400      Android App  NaN  Female      IT   \n",
       "172835  185.119.252.121  100300      Android App  NaN  Female      IT   \n",
       "172836   185.145.107.23   50200      Android App  NaN    Male      US   \n",
       "172837    202.69.12.251  170800      Android App  NaN  Female      CA   \n",
       "\n",
       "       membership language     sales returned  returned_amount   pay_method  \n",
       "0          Normal  English  261.9600       No             0.00  Credit Card  \n",
       "1          Normal  English  731.9400       No             0.00   Debit Card  \n",
       "2          Normal  English   14.6200       No             0.00         Cash  \n",
       "3          Normal  Spanish  957.5775       No             0.00  Credit Card  \n",
       "4          Normal  Spanish   22.3680       No             0.00         Cash  \n",
       "...           ...      ...       ...      ...              ...          ...  \n",
       "172833     Normal  English    0.0000      Yes           143.36   Debit Card  \n",
       "172834     Normal  English   15.1500       No             0.00         Cash  \n",
       "172835     Normal  English  600.1600       No             0.00  Credit Card  \n",
       "172836     Normal  Russian   75.7500       No             0.00         Cash  \n",
       "172837     Normal  English   23.4600       No             0.00  Credit Card  \n",
       "\n",
       "[172838 rows x 15 columns]"
      ]
     },
     "execution_count": 7,
     "metadata": {},
     "output_type": "execute_result"
    }
   ],
   "source": [
    "df"
   ]
  },
  {
   "cell_type": "code",
   "execution_count": null,
   "id": "9b9f6433",
   "metadata": {},
   "outputs": [],
   "source": []
  },
  {
   "cell_type": "code",
   "execution_count": 8,
   "id": "02b557df",
   "metadata": {},
   "outputs": [
    {
     "name": "stdout",
     "output_type": "stream",
     "text": [
      "<class 'pandas.core.frame.DataFrame'>\n",
      "RangeIndex: 172838 entries, 0 to 172837\n",
      "Data columns (total 15 columns):\n",
      " #   Column            Non-Null Count   Dtype  \n",
      "---  ------            --------------   -----  \n",
      " 0   accessed_date     172838 non-null  object \n",
      " 1   duration_(secs)   172838 non-null  int64  \n",
      " 2   network_protocol  172838 non-null  object \n",
      " 3   ip                172838 non-null  object \n",
      " 4   bytes             172838 non-null  int64  \n",
      " 5   accessed_Ffom     172838 non-null  object \n",
      " 6   age               99457 non-null   object \n",
      " 7   gender            172838 non-null  object \n",
      " 8   country           172838 non-null  object \n",
      " 9   membership        172838 non-null  object \n",
      " 10  language          172838 non-null  object \n",
      " 11  sales             172838 non-null  float64\n",
      " 12  returned          172838 non-null  object \n",
      " 13  returned_amount   172838 non-null  float64\n",
      " 14  pay_method        172838 non-null  object \n",
      "dtypes: float64(2), int64(2), object(11)\n",
      "memory usage: 19.8+ MB\n"
     ]
    }
   ],
   "source": [
    "df.info()"
   ]
  },
  {
   "cell_type": "code",
   "execution_count": 9,
   "id": "b723c214",
   "metadata": {},
   "outputs": [
    {
     "data": {
      "text/plain": [
       "(172838, 15)"
      ]
     },
     "execution_count": 9,
     "metadata": {},
     "output_type": "execute_result"
    }
   ],
   "source": [
    "df.shape"
   ]
  },
  {
   "cell_type": "code",
   "execution_count": 10,
   "id": "288db12e",
   "metadata": {},
   "outputs": [],
   "source": [
    "df.drop([\"ip\",\"bytes\",\"network_protocol\"],axis=1,inplace=True)"
   ]
  },
  {
   "cell_type": "code",
   "execution_count": 11,
   "id": "2a3b78b5",
   "metadata": {},
   "outputs": [
    {
     "data": {
      "text/html": [
       "<div>\n",
       "<style scoped>\n",
       "    .dataframe tbody tr th:only-of-type {\n",
       "        vertical-align: middle;\n",
       "    }\n",
       "\n",
       "    .dataframe tbody tr th {\n",
       "        vertical-align: top;\n",
       "    }\n",
       "\n",
       "    .dataframe thead th {\n",
       "        text-align: right;\n",
       "    }\n",
       "</style>\n",
       "<table border=\"1\" class=\"dataframe\">\n",
       "  <thead>\n",
       "    <tr style=\"text-align: right;\">\n",
       "      <th></th>\n",
       "      <th>accessed_date</th>\n",
       "      <th>duration_(secs)</th>\n",
       "      <th>accessed_Ffom</th>\n",
       "      <th>age</th>\n",
       "      <th>gender</th>\n",
       "      <th>country</th>\n",
       "      <th>membership</th>\n",
       "      <th>language</th>\n",
       "      <th>sales</th>\n",
       "      <th>returned</th>\n",
       "      <th>returned_amount</th>\n",
       "      <th>pay_method</th>\n",
       "    </tr>\n",
       "  </thead>\n",
       "  <tbody>\n",
       "    <tr>\n",
       "      <th>0</th>\n",
       "      <td>2017-03-14 17:43:57.172</td>\n",
       "      <td>2533</td>\n",
       "      <td>Chrome</td>\n",
       "      <td>28</td>\n",
       "      <td>Female</td>\n",
       "      <td>CA</td>\n",
       "      <td>Normal</td>\n",
       "      <td>English</td>\n",
       "      <td>261.9600</td>\n",
       "      <td>No</td>\n",
       "      <td>0.00</td>\n",
       "      <td>Credit Card</td>\n",
       "    </tr>\n",
       "    <tr>\n",
       "      <th>1</th>\n",
       "      <td>2017-03-14 17:43:57.172</td>\n",
       "      <td>4034</td>\n",
       "      <td>Mozilla Firefox</td>\n",
       "      <td>21</td>\n",
       "      <td>Male</td>\n",
       "      <td>AR</td>\n",
       "      <td>Normal</td>\n",
       "      <td>English</td>\n",
       "      <td>731.9400</td>\n",
       "      <td>No</td>\n",
       "      <td>0.00</td>\n",
       "      <td>Debit Card</td>\n",
       "    </tr>\n",
       "    <tr>\n",
       "      <th>2</th>\n",
       "      <td>2017-03-14 17:43:26.135</td>\n",
       "      <td>1525</td>\n",
       "      <td>Mozilla Firefox</td>\n",
       "      <td>20</td>\n",
       "      <td>Male</td>\n",
       "      <td>PL</td>\n",
       "      <td>Normal</td>\n",
       "      <td>English</td>\n",
       "      <td>14.6200</td>\n",
       "      <td>No</td>\n",
       "      <td>0.00</td>\n",
       "      <td>Cash</td>\n",
       "    </tr>\n",
       "    <tr>\n",
       "      <th>3</th>\n",
       "      <td>2017-03-14 17:43:26.135</td>\n",
       "      <td>4572</td>\n",
       "      <td>Mozilla Firefox</td>\n",
       "      <td>66</td>\n",
       "      <td>Female</td>\n",
       "      <td>IN</td>\n",
       "      <td>Normal</td>\n",
       "      <td>Spanish</td>\n",
       "      <td>957.5775</td>\n",
       "      <td>No</td>\n",
       "      <td>0.00</td>\n",
       "      <td>Credit Card</td>\n",
       "    </tr>\n",
       "    <tr>\n",
       "      <th>4</th>\n",
       "      <td>2017-03-14 18:17:09.005</td>\n",
       "      <td>3652</td>\n",
       "      <td>Mozilla Firefox</td>\n",
       "      <td>53</td>\n",
       "      <td>Female</td>\n",
       "      <td>KR</td>\n",
       "      <td>Normal</td>\n",
       "      <td>Spanish</td>\n",
       "      <td>22.3680</td>\n",
       "      <td>No</td>\n",
       "      <td>0.00</td>\n",
       "      <td>Cash</td>\n",
       "    </tr>\n",
       "    <tr>\n",
       "      <th>...</th>\n",
       "      <td>...</td>\n",
       "      <td>...</td>\n",
       "      <td>...</td>\n",
       "      <td>...</td>\n",
       "      <td>...</td>\n",
       "      <td>...</td>\n",
       "      <td>...</td>\n",
       "      <td>...</td>\n",
       "      <td>...</td>\n",
       "      <td>...</td>\n",
       "      <td>...</td>\n",
       "      <td>...</td>\n",
       "    </tr>\n",
       "    <tr>\n",
       "      <th>172833</th>\n",
       "      <td>2017-03-16 11:42:01.298</td>\n",
       "      <td>4372</td>\n",
       "      <td>Android App</td>\n",
       "      <td>NaN</td>\n",
       "      <td>Male</td>\n",
       "      <td>US</td>\n",
       "      <td>Normal</td>\n",
       "      <td>English</td>\n",
       "      <td>0.0000</td>\n",
       "      <td>Yes</td>\n",
       "      <td>143.36</td>\n",
       "      <td>Debit Card</td>\n",
       "    </tr>\n",
       "    <tr>\n",
       "      <th>172834</th>\n",
       "      <td>2017-03-16 12:10:17.340</td>\n",
       "      <td>2167</td>\n",
       "      <td>Android App</td>\n",
       "      <td>NaN</td>\n",
       "      <td>Female</td>\n",
       "      <td>IT</td>\n",
       "      <td>Normal</td>\n",
       "      <td>English</td>\n",
       "      <td>15.1500</td>\n",
       "      <td>No</td>\n",
       "      <td>0.00</td>\n",
       "      <td>Cash</td>\n",
       "    </tr>\n",
       "    <tr>\n",
       "      <th>172835</th>\n",
       "      <td>2017-03-16 12:10:17.340</td>\n",
       "      <td>2725</td>\n",
       "      <td>Android App</td>\n",
       "      <td>NaN</td>\n",
       "      <td>Female</td>\n",
       "      <td>IT</td>\n",
       "      <td>Normal</td>\n",
       "      <td>English</td>\n",
       "      <td>600.1600</td>\n",
       "      <td>No</td>\n",
       "      <td>0.00</td>\n",
       "      <td>Credit Card</td>\n",
       "    </tr>\n",
       "    <tr>\n",
       "      <th>172836</th>\n",
       "      <td>2017-03-16 15:52:58.342</td>\n",
       "      <td>3728</td>\n",
       "      <td>Android App</td>\n",
       "      <td>NaN</td>\n",
       "      <td>Male</td>\n",
       "      <td>US</td>\n",
       "      <td>Normal</td>\n",
       "      <td>Russian</td>\n",
       "      <td>75.7500</td>\n",
       "      <td>No</td>\n",
       "      <td>0.00</td>\n",
       "      <td>Cash</td>\n",
       "    </tr>\n",
       "    <tr>\n",
       "      <th>172837</th>\n",
       "      <td>2017-03-16 15:52:58.342</td>\n",
       "      <td>3420</td>\n",
       "      <td>Android App</td>\n",
       "      <td>NaN</td>\n",
       "      <td>Female</td>\n",
       "      <td>CA</td>\n",
       "      <td>Normal</td>\n",
       "      <td>English</td>\n",
       "      <td>23.4600</td>\n",
       "      <td>No</td>\n",
       "      <td>0.00</td>\n",
       "      <td>Credit Card</td>\n",
       "    </tr>\n",
       "  </tbody>\n",
       "</table>\n",
       "<p>172838 rows × 12 columns</p>\n",
       "</div>"
      ],
      "text/plain": [
       "                  accessed_date  duration_(secs)    accessed_Ffom  age  \\\n",
       "0       2017-03-14 17:43:57.172             2533           Chrome   28   \n",
       "1       2017-03-14 17:43:57.172             4034  Mozilla Firefox   21   \n",
       "2       2017-03-14 17:43:26.135             1525  Mozilla Firefox   20   \n",
       "3       2017-03-14 17:43:26.135             4572  Mozilla Firefox   66   \n",
       "4       2017-03-14 18:17:09.005             3652  Mozilla Firefox   53   \n",
       "...                         ...              ...              ...  ...   \n",
       "172833  2017-03-16 11:42:01.298             4372      Android App  NaN   \n",
       "172834  2017-03-16 12:10:17.340             2167      Android App  NaN   \n",
       "172835  2017-03-16 12:10:17.340             2725      Android App  NaN   \n",
       "172836  2017-03-16 15:52:58.342             3728      Android App  NaN   \n",
       "172837  2017-03-16 15:52:58.342             3420      Android App  NaN   \n",
       "\n",
       "        gender country membership language     sales returned  \\\n",
       "0       Female      CA     Normal  English  261.9600       No   \n",
       "1         Male      AR     Normal  English  731.9400       No   \n",
       "2         Male      PL     Normal  English   14.6200       No   \n",
       "3       Female      IN     Normal  Spanish  957.5775       No   \n",
       "4       Female      KR     Normal  Spanish   22.3680       No   \n",
       "...        ...     ...        ...      ...       ...      ...   \n",
       "172833    Male      US     Normal  English    0.0000      Yes   \n",
       "172834  Female      IT     Normal  English   15.1500       No   \n",
       "172835  Female      IT     Normal  English  600.1600       No   \n",
       "172836    Male      US     Normal  Russian   75.7500       No   \n",
       "172837  Female      CA     Normal  English   23.4600       No   \n",
       "\n",
       "        returned_amount   pay_method  \n",
       "0                  0.00  Credit Card  \n",
       "1                  0.00   Debit Card  \n",
       "2                  0.00         Cash  \n",
       "3                  0.00  Credit Card  \n",
       "4                  0.00         Cash  \n",
       "...                 ...          ...  \n",
       "172833           143.36   Debit Card  \n",
       "172834             0.00         Cash  \n",
       "172835             0.00  Credit Card  \n",
       "172836             0.00         Cash  \n",
       "172837             0.00  Credit Card  \n",
       "\n",
       "[172838 rows x 12 columns]"
      ]
     },
     "execution_count": 11,
     "metadata": {},
     "output_type": "execute_result"
    }
   ],
   "source": [
    "df"
   ]
  },
  {
   "cell_type": "code",
   "execution_count": 12,
   "id": "b82a29cb",
   "metadata": {},
   "outputs": [
    {
     "data": {
      "text/html": [
       "<div>\n",
       "<style scoped>\n",
       "    .dataframe tbody tr th:only-of-type {\n",
       "        vertical-align: middle;\n",
       "    }\n",
       "\n",
       "    .dataframe tbody tr th {\n",
       "        vertical-align: top;\n",
       "    }\n",
       "\n",
       "    .dataframe thead th {\n",
       "        text-align: right;\n",
       "    }\n",
       "</style>\n",
       "<table border=\"1\" class=\"dataframe\">\n",
       "  <thead>\n",
       "    <tr style=\"text-align: right;\">\n",
       "      <th></th>\n",
       "      <th>duration_(secs)</th>\n",
       "      <th>sales</th>\n",
       "      <th>returned_amount</th>\n",
       "    </tr>\n",
       "  </thead>\n",
       "  <tbody>\n",
       "    <tr>\n",
       "      <th>count</th>\n",
       "      <td>172838.000000</td>\n",
       "      <td>172838.000000</td>\n",
       "      <td>172838.000000</td>\n",
       "    </tr>\n",
       "    <tr>\n",
       "      <th>mean</th>\n",
       "      <td>3248.031827</td>\n",
       "      <td>411.346449</td>\n",
       "      <td>74.012092</td>\n",
       "    </tr>\n",
       "    <tr>\n",
       "      <th>std</th>\n",
       "      <td>1010.872270</td>\n",
       "      <td>785.537868</td>\n",
       "      <td>364.446435</td>\n",
       "    </tr>\n",
       "    <tr>\n",
       "      <th>min</th>\n",
       "      <td>1500.000000</td>\n",
       "      <td>0.000000</td>\n",
       "      <td>0.000000</td>\n",
       "    </tr>\n",
       "    <tr>\n",
       "      <th>25%</th>\n",
       "      <td>2371.000000</td>\n",
       "      <td>5.230000</td>\n",
       "      <td>0.000000</td>\n",
       "    </tr>\n",
       "    <tr>\n",
       "      <th>50%</th>\n",
       "      <td>3246.000000</td>\n",
       "      <td>46.920000</td>\n",
       "      <td>0.000000</td>\n",
       "    </tr>\n",
       "    <tr>\n",
       "      <th>75%</th>\n",
       "      <td>4124.000000</td>\n",
       "      <td>600.160000</td>\n",
       "      <td>0.000000</td>\n",
       "    </tr>\n",
       "    <tr>\n",
       "      <th>max</th>\n",
       "      <td>5000.000000</td>\n",
       "      <td>11199.968000</td>\n",
       "      <td>22638.480000</td>\n",
       "    </tr>\n",
       "  </tbody>\n",
       "</table>\n",
       "</div>"
      ],
      "text/plain": [
       "       duration_(secs)          sales  returned_amount\n",
       "count    172838.000000  172838.000000    172838.000000\n",
       "mean       3248.031827     411.346449        74.012092\n",
       "std        1010.872270     785.537868       364.446435\n",
       "min        1500.000000       0.000000         0.000000\n",
       "25%        2371.000000       5.230000         0.000000\n",
       "50%        3246.000000      46.920000         0.000000\n",
       "75%        4124.000000     600.160000         0.000000\n",
       "max        5000.000000   11199.968000     22638.480000"
      ]
     },
     "execution_count": 12,
     "metadata": {},
     "output_type": "execute_result"
    }
   ],
   "source": [
    "df.describe()"
   ]
  },
  {
   "cell_type": "code",
   "execution_count": null,
   "id": "53fc924f",
   "metadata": {},
   "outputs": [],
   "source": []
  },
  {
   "cell_type": "code",
   "execution_count": 13,
   "id": "2f8bacd8",
   "metadata": {},
   "outputs": [
    {
     "data": {
      "text/plain": [
       "accessed_date          0\n",
       "duration_(secs)        0\n",
       "accessed_Ffom          0\n",
       "age                73381\n",
       "gender                 0\n",
       "country                0\n",
       "membership             0\n",
       "language               0\n",
       "sales                  0\n",
       "returned               0\n",
       "returned_amount        0\n",
       "pay_method             0\n",
       "dtype: int64"
      ]
     },
     "execution_count": 13,
     "metadata": {},
     "output_type": "execute_result"
    }
   ],
   "source": [
    "df.isnull().sum()"
   ]
  },
  {
   "cell_type": "code",
   "execution_count": 14,
   "id": "9abe3657",
   "metadata": {},
   "outputs": [],
   "source": [
    "df.drop([\"age\"],axis=1,inplace=True)"
   ]
  },
  {
   "cell_type": "code",
   "execution_count": 15,
   "id": "b6b11acb",
   "metadata": {},
   "outputs": [
    {
     "data": {
      "text/html": [
       "<div>\n",
       "<style scoped>\n",
       "    .dataframe tbody tr th:only-of-type {\n",
       "        vertical-align: middle;\n",
       "    }\n",
       "\n",
       "    .dataframe tbody tr th {\n",
       "        vertical-align: top;\n",
       "    }\n",
       "\n",
       "    .dataframe thead th {\n",
       "        text-align: right;\n",
       "    }\n",
       "</style>\n",
       "<table border=\"1\" class=\"dataframe\">\n",
       "  <thead>\n",
       "    <tr style=\"text-align: right;\">\n",
       "      <th></th>\n",
       "      <th>accessed_date</th>\n",
       "      <th>duration_(secs)</th>\n",
       "      <th>accessed_Ffom</th>\n",
       "      <th>gender</th>\n",
       "      <th>country</th>\n",
       "      <th>membership</th>\n",
       "      <th>language</th>\n",
       "      <th>sales</th>\n",
       "      <th>returned</th>\n",
       "      <th>returned_amount</th>\n",
       "      <th>pay_method</th>\n",
       "    </tr>\n",
       "  </thead>\n",
       "  <tbody>\n",
       "    <tr>\n",
       "      <th>0</th>\n",
       "      <td>2017-03-14 17:43:57.172</td>\n",
       "      <td>2533</td>\n",
       "      <td>Chrome</td>\n",
       "      <td>Female</td>\n",
       "      <td>CA</td>\n",
       "      <td>Normal</td>\n",
       "      <td>English</td>\n",
       "      <td>261.9600</td>\n",
       "      <td>No</td>\n",
       "      <td>0.0</td>\n",
       "      <td>Credit Card</td>\n",
       "    </tr>\n",
       "    <tr>\n",
       "      <th>1</th>\n",
       "      <td>2017-03-14 17:43:57.172</td>\n",
       "      <td>4034</td>\n",
       "      <td>Mozilla Firefox</td>\n",
       "      <td>Male</td>\n",
       "      <td>AR</td>\n",
       "      <td>Normal</td>\n",
       "      <td>English</td>\n",
       "      <td>731.9400</td>\n",
       "      <td>No</td>\n",
       "      <td>0.0</td>\n",
       "      <td>Debit Card</td>\n",
       "    </tr>\n",
       "    <tr>\n",
       "      <th>2</th>\n",
       "      <td>2017-03-14 17:43:26.135</td>\n",
       "      <td>1525</td>\n",
       "      <td>Mozilla Firefox</td>\n",
       "      <td>Male</td>\n",
       "      <td>PL</td>\n",
       "      <td>Normal</td>\n",
       "      <td>English</td>\n",
       "      <td>14.6200</td>\n",
       "      <td>No</td>\n",
       "      <td>0.0</td>\n",
       "      <td>Cash</td>\n",
       "    </tr>\n",
       "    <tr>\n",
       "      <th>3</th>\n",
       "      <td>2017-03-14 17:43:26.135</td>\n",
       "      <td>4572</td>\n",
       "      <td>Mozilla Firefox</td>\n",
       "      <td>Female</td>\n",
       "      <td>IN</td>\n",
       "      <td>Normal</td>\n",
       "      <td>Spanish</td>\n",
       "      <td>957.5775</td>\n",
       "      <td>No</td>\n",
       "      <td>0.0</td>\n",
       "      <td>Credit Card</td>\n",
       "    </tr>\n",
       "    <tr>\n",
       "      <th>4</th>\n",
       "      <td>2017-03-14 18:17:09.005</td>\n",
       "      <td>3652</td>\n",
       "      <td>Mozilla Firefox</td>\n",
       "      <td>Female</td>\n",
       "      <td>KR</td>\n",
       "      <td>Normal</td>\n",
       "      <td>Spanish</td>\n",
       "      <td>22.3680</td>\n",
       "      <td>No</td>\n",
       "      <td>0.0</td>\n",
       "      <td>Cash</td>\n",
       "    </tr>\n",
       "  </tbody>\n",
       "</table>\n",
       "</div>"
      ],
      "text/plain": [
       "             accessed_date  duration_(secs)    accessed_Ffom  gender country  \\\n",
       "0  2017-03-14 17:43:57.172             2533           Chrome  Female      CA   \n",
       "1  2017-03-14 17:43:57.172             4034  Mozilla Firefox    Male      AR   \n",
       "2  2017-03-14 17:43:26.135             1525  Mozilla Firefox    Male      PL   \n",
       "3  2017-03-14 17:43:26.135             4572  Mozilla Firefox  Female      IN   \n",
       "4  2017-03-14 18:17:09.005             3652  Mozilla Firefox  Female      KR   \n",
       "\n",
       "  membership language     sales returned  returned_amount   pay_method  \n",
       "0     Normal  English  261.9600       No              0.0  Credit Card  \n",
       "1     Normal  English  731.9400       No              0.0   Debit Card  \n",
       "2     Normal  English   14.6200       No              0.0         Cash  \n",
       "3     Normal  Spanish  957.5775       No              0.0  Credit Card  \n",
       "4     Normal  Spanish   22.3680       No              0.0         Cash  "
      ]
     },
     "execution_count": 15,
     "metadata": {},
     "output_type": "execute_result"
    }
   ],
   "source": [
    "df.head()"
   ]
  },
  {
   "cell_type": "code",
   "execution_count": 19,
   "id": "d8d4e1c5",
   "metadata": {},
   "outputs": [
    {
     "data": {
      "text/plain": [
       "accessed_date      0.0\n",
       "duration_(secs)    0.0\n",
       "accessed_Ffom      0.0\n",
       "gender             0.0\n",
       "country            0.0\n",
       "membership         0.0\n",
       "language           0.0\n",
       "sales              0.0\n",
       "returned           0.0\n",
       "returned_amount    0.0\n",
       "pay_method         0.0\n",
       "dtype: float64"
      ]
     },
     "execution_count": 19,
     "metadata": {},
     "output_type": "execute_result"
    }
   ],
   "source": [
    "null_values=df.isnull().mean()\n",
    "null_values"
   ]
  },
  {
   "cell_type": "code",
   "execution_count": null,
   "id": "468f3beb",
   "metadata": {},
   "outputs": [],
   "source": []
  },
  {
   "cell_type": "code",
   "execution_count": 20,
   "id": "5da662c4",
   "metadata": {},
   "outputs": [
    {
     "data": {
      "text/plain": [
       "Android App        38216\n",
       "Chrome             28254\n",
       "Mozilla Firefox    26592\n",
       "Others             26592\n",
       "IOS App            21606\n",
       "Safari             16467\n",
       "Microsoft Edge     14958\n",
       "SafFRi               153\n",
       "Name: accessed_Ffom, dtype: int64"
      ]
     },
     "execution_count": 20,
     "metadata": {},
     "output_type": "execute_result"
    }
   ],
   "source": [
    "df[\"accessed_Ffom\"].value_counts()"
   ]
  },
  {
   "cell_type": "code",
   "execution_count": null,
   "id": "11b95162",
   "metadata": {},
   "outputs": [],
   "source": []
  },
  {
   "cell_type": "code",
   "execution_count": 22,
   "id": "fd1cf151",
   "metadata": {},
   "outputs": [
    {
     "data": {
      "text/plain": [
       "Android App        38216\n",
       "Chrome             28254\n",
       "Mozilla Firefox    26592\n",
       "Others             26592\n",
       "IOS App            21606\n",
       "Safari             16467\n",
       "Microsoft Edge     14958\n",
       "safari               153\n",
       "Name: accessed_Ffom, dtype: int64"
      ]
     },
     "execution_count": 22,
     "metadata": {},
     "output_type": "execute_result"
    }
   ],
   "source": [
    "df[\"accessed_Ffom\"].replace('SafFRi' ,'safari', inplace=True)\n",
    "df[\"accessed_Ffom\"].value_counts()"
   ]
  },
  {
   "cell_type": "code",
   "execution_count": 25,
   "id": "750d862a",
   "metadata": {},
   "outputs": [
    {
     "data": {
      "text/plain": [
       "Premium          107345\n",
       "Normal            49607\n",
       "Not Logged In     15886\n",
       "Name: membership, dtype: int64"
      ]
     },
     "execution_count": 25,
     "metadata": {},
     "output_type": "execute_result"
    }
   ],
   "source": [
    "df[\"membership\"].value_counts()"
   ]
  },
  {
   "cell_type": "code",
   "execution_count": 26,
   "id": "b463f4be",
   "metadata": {},
   "outputs": [
    {
     "data": {
      "text/plain": [
       "Female     93903\n",
       "Male       63049\n",
       "Unknown    15886\n",
       "Name: gender, dtype: int64"
      ]
     },
     "execution_count": 26,
     "metadata": {},
     "output_type": "execute_result"
    }
   ],
   "source": [
    "df[\"gender\"].value_counts()"
   ]
  },
  {
   "cell_type": "code",
   "execution_count": 27,
   "id": "acaf0a79",
   "metadata": {},
   "outputs": [
    {
     "data": {
      "text/plain": [
       "Cash           72670\n",
       "Credit Card    53031\n",
       "Debit Card     27497\n",
       "Others         19640\n",
       "Name: pay_method, dtype: int64"
      ]
     },
     "execution_count": 27,
     "metadata": {},
     "output_type": "execute_result"
    }
   ],
   "source": [
    "df[\"pay_method\"].value_counts()"
   ]
  },
  {
   "cell_type": "code",
   "execution_count": null,
   "id": "2f63b017",
   "metadata": {},
   "outputs": [],
   "source": []
  },
  {
   "cell_type": "code",
   "execution_count": 32,
   "id": "f9de4f2a",
   "metadata": {},
   "outputs": [
    {
     "data": {
      "image/png": "[encoded data removed]",
      "text/plain": [
       "<Figure size 1000x600 with 1 Axes>"
      ]
     },
     "metadata": {},
     "output_type": "display_data"
    }
   ],
   "source": [
    "plt.figure(figsize=(10, 6))\n",
    "\n",
    "sns.countplot(data=df, x='accessed_Ffom', palette='viridis', order=df['accessed_Ffom'].value_counts().index)\n",
    "\n",
    "plt.xlabel('access score')\n",
    "plt.ylabel('amount of accesses')\n",
    "plt.title('no.of accesses from different sources')\n",
    "\n",
    "plt.xticks(rotation=45, ha='right')\n",
    "plt.tight_layout()\n",
    "plt.show()"
   ]
  },
  {
   "cell_type": "code",
   "execution_count": 35,
   "id": "a4dea832",
   "metadata": {},
   "outputs": [
    {
     "data": {
      "image/png": "[encoded data removed]",
      "text/plain": [
       "<Figure size 600x600 with 1 Axes>"
      ]
     },
     "metadata": {},
     "output_type": "display_data"
    }
   ],
   "source": [
    "amount_of_men = (df['gender'] == 'Male').sum()\n",
    "amount_of_women = (df['gender'] == 'Female').sum()\n",
    "\n",
    "gender= ['men', 'women']\n",
    "values = [amount_of_men, amount_of_women]\n",
    "\n",
    "plt.figure(figsize=(6, 6))\n",
    "plt.pie(values, labels=gender, autopct='%1.1f%%', colors=['skyblue', 'lightpink'], startangle=140)\n",
    "\n",
    "plt.title('population of men and women')\n",
    "\n",
    "plt.axis('equal')  \n",
    "plt.tight_layout()\n",
    "plt.show()"
   ]
  },
  {
   "cell_type": "code",
   "execution_count": null,
   "id": "cafb8c62",
   "metadata": {},
   "outputs": [],
   "source": []
  },
  {
   "cell_type": "code",
   "execution_count": 37,
   "id": "149e1802",
   "metadata": {},
   "outputs": [
    {
     "data": {
      "image/png": "[encoded data removed]",
      "text/plain": [
       "<Figure size 1000x600 with 1 Axes>"
      ]
     },
     "metadata": {},
     "output_type": "display_data"
    }
   ],
   "source": [
    "plt.figure(figsize=(10, 6))\n",
    "\n",
    "sns.countplot(data=df, x='pay_method', palette='viridis', order=df['pay_method'].value_counts().index)\n",
    "\n",
    "plt.xlabel('payment method')\n",
    "plt.ylabel('Number of times used')\n",
    "plt.title('amount of payments methods used')\n",
    "\n",
    "plt.xticks(rotation=45, ha='right')\n",
    "plt.tight_layout()\n",
    "plt.show()"
   ]
  },
  {
   "cell_type": "code",
   "execution_count": null,
   "id": "2c825c9f",
   "metadata": {},
   "outputs": [],
   "source": []
  },
  {
   "cell_type": "code",
   "execution_count": 38,
   "id": "6432db5c",
   "metadata": {},
   "outputs": [
    {
     "data": {
      "image/png": "[encoded data removed]",
      "text/plain": [
       "<Figure size 1200x800 with 1 Axes>"
      ]
     },
     "metadata": {},
     "output_type": "display_data"
    }
   ],
   "source": [
    "paises = df['country'].value_counts().head(5)\n",
    "\n",
    "plt.figure(figsize=(12, 8))\n",
    "paises.plot(kind='bar', color='skyblue')\n",
    "\n",
    "plt.xlabel('Country')\n",
    "plt.ylabel('Number of records')\n",
    "plt.title('Number of records per country')\n",
    "plt.xticks(rotation=45, ha='right')\n",
    "\n",
    "plt.tight_layout()\n",
    "plt.show()"
   ]
  },
  {
   "cell_type": "code",
   "execution_count": 40,
   "id": "0f4d9954",
   "metadata": {},
   "outputs": [
    {
     "data": {
      "text/plain": [
       "<Figure size 1000x600 with 0 Axes>"
      ]
     },
     "metadata": {},
     "output_type": "display_data"
    },
    {
     "data": {
      "image/png": "[encoded data removed]",
      "text/plain": [
       "<Figure size 640x480 with 1 Axes>"
      ]
     },
     "metadata": {},
     "output_type": "display_data"
    }
   ],
   "source": [
    "top_5_countries = df['country'].value_counts().head(5).index.tolist()\n",
    "\n",
    "df_top_5_countries = df[df['country'].isin(top_5_countries)]\n",
    "\n",
    "men_women_in_country= df_top_5_countries.groupby(['country', 'gender']).size().unstack(fill_value=0)\n",
    "\n",
    "plt.figure(figsize=(10, 6))\n",
    "men_women_in_country.plot(kind='bar', stacked=True, cmap='coolwarm')\n",
    "\n",
    "plt.xlabel('country')\n",
    "plt.ylabel('no of records')\n",
    "plt.title('Distribution of Men, women in five countries with the most registers')\n",
    "plt.legend(title='country')\n",
    "\n",
    "plt.xticks(rotation=45, ha='right')\n",
    "plt.tight_layout()\n",
    "plt.show()"
   ]
  },
  {
   "cell_type": "code",
   "execution_count": 43,
   "id": "8bd2490a",
   "metadata": {},
   "outputs": [
    {
     "data": {
      "image/png": "[encoded data removed]",
      "text/plain": [
       "<Figure size 500x500 with 1 Axes>"
      ]
     },
     "metadata": {},
     "output_type": "display_data"
    }
   ],
   "source": [
    "cantidad_premium = (df['membership'] == 'Premium').sum()\n",
    "cantidad_normal = (df['membership'] == 'Normal').sum()\n",
    "\n",
    "etiquetas = ['Premium', 'Normal']\n",
    "values = [cantidad_premium, cantidad_normal]\n",
    "\n",
    "plt.figure(figsize=(5, 5))\n",
    "plt.pie(values, labels=etiquetas, autopct='%1.1f%%', startangle=140)\n",
    "\n",
    "plt.title('membership ratio')\n",
    "\n",
    "plt.axis('equal')  \n",
    "plt.tight_layout()\n",
    "plt.show()"
   ]
  },
  {
   "cell_type": "code",
   "execution_count": null,
   "id": "1b411f75",
   "metadata": {},
   "outputs": [],
   "source": []
  }
 ],
 "metadata": {
  "kernelspec": {
   "display_name": "Python 3 (ipykernel)",
   "language": "python",
   "name": "python3"
  },
  "language_info": {
   "codemirror_mode": {
    "name": "ipython",
    "version": 3
   },
   "file_extension": ".py",
   "mimetype": "text/x-python",
   "name": "python",
   "nbconvert_exporter": "python",
   "pygments_lexer": "ipython3",
   "version": "3.11.4"
  }
 },
 "nbformat": 4,
 "nbformat_minor": 5
}
